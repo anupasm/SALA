#!/usr/bin/env python
# coding: utf-8

# In[194]:


import os, json
import matplotlib.pyplot as plt
import numpy as np


tests = list(range(101,111))

model_ex_data, model_fee_data, model_fail_data = [], [], []

def process_stat(file_no, data):
    for node, value in data.items(): #only first one
        exhaustions = []
        times = []
        for ex_con in value['exhaustion']:
            ex_total = sum([avg*n for (avg,std,n) in ex_con.values()])
            ex_n = sum([n for (avg,std,n) in ex_con.values()])
            exhaustions.append(ex_total)
            times.append(ex_n)
        return exhaustions, value['fee_total'], value['ex_failures_total'], times

mpc_ex = []
opt_ex = []
mpc_art = []
opt_art = []
static_fee = []
opt_fee = []
mpc_fail = []
opt_fail =[]
def set_percentages(data):
    ex = data[0]
    fee = data[1]
    fail = data[2]
    times = data[3]

    if fee[0]:
        static_fee.append((fee[1]-fee[0])*100/fee[0])
    if fee[2]:
        opt_fee.append((fee[1]-fee[2])*100/fee[2])

    if fail[0]:
        mpc_fail.append((fail[0]-fail[1])*100/fail[0])
        opt_fail.append((fail[0]-fail[2])*100/fail[0])
    if ex[0]:
        mpc_ex.append((ex[0]-ex[1])*100/ex[0])
        opt_ex.append((ex[0]-ex[2])*100/ex[0])
    
    if times[1]:
        mpc_art.append(ex[1]/times[1])
    else:
        mpc_art.append(0)
        
    if times[2]:
        opt_art.append(ex[2]/times[2])
    else:
        opt_art.append(0)


    
for test in tests:
    dir = '../data/'+str(test)+'/'
    subdirs = [x[0] for x in os.walk(dir)][1:]

    for subdir in subdirs:
        file = subdir+'/stat.json'
        file_no = subdir.split('/')[3]
        if not os.path.isfile(file): continue

        with open(file, "r") as file_object:
            for i, line in enumerate(file_object):
                data = process_stat(file_no, json.loads(line))
                set_percentages(data)
                break


import statistics
import seaborn as sb



################ fee

fig, ax = plt.subplots(1, 2, figsize=(25,5))

counts, bins, patches = ax[0].hist([s for s in static_fee if s < 1000], label="S-FC", bins=range(0, 1000, 20))#,edgecolor='black', color='white')
ax[0].set_xticks(range(0, 1000, 20))
ax[0].set_xticklabels(range(0, 1000, 20),rotation='vertical')
ax[0].legend()
ax[0].set_xlabel("percentage")
ax[0].set_ylabel("count")

counts, bins, patches =ax[1].hist([s for s in opt_fee  if s < 1000], label="OF-FC", bins=range(0, 1000, 20))#, edgecolor='black',color='white')
ax[1].set_xticks(range(0, 1000, 20))
ax[1].set_xticklabels(range(0, 1000, 20),rotation='vertical')
ax[1].legend()
ax[1].set_xlabel("percentage")
ax[1].set_ylabel("count")


plt.show()
print(len([s for s in static_fee if s < 1000]))
print(len([s for s in opt_fee  if s < 1000]))




###############
fig, ax = plt.subplots(1, 3, figsize=(20,5))

################ exhaus

counts, bins, patches  = ax[0].hist([opt_ex,mpc_ex], bins=range(10, 105, 5), label=["OF-FC","MPC-FC"])
ax[0].set_xticks(bins)
ax[0].set_xticklabels(bins,rotation='vertical')
ax[0].legend()
ax[0].set_xlabel("percentage")
ax[0].set_ylabel("count")
ax[0].title.set_text("a) TES compared to S-FC")

print(len(mpc_ex))
print(len(opt_ex))

################ drop

counts, bins, patches  = ax[1].hist([opt_fail,mpc_fail], bins=range(-300, 110, 20), label=["OF-FC","MPC-FC"])
ax[1].set_xticks(bins)
ax[1].set_xticklabels(bins,rotation='vertical')
ax[1].legend()
ax[1].set_xlabel("percentage")
ax[1].set_ylabel("count")
ax[1].title.set_text("b) DF compared to S-FC")

print(len(mpc_fail))
print(len(opt_fail))


############# art


counts, bins, patches  = ax[2].hist([opt_art,mpc_art], bins=range(0, 100, 5), label=["OF-FC","MPC-FC"])
ax[2].set_xticks(bins)
ax[2].set_xticklabels(bins,rotation='vertical')
ax[2].legend()
ax[2].set_xlabel("steps")
ax[2].set_ylabel("count")
ax[2].title.set_text("c) ART")

print(len(mpc_art))
print(len(opt_art))


plt.show()


# In[191]:


import pandas as pd
df = pd.DataFrame([s for s in static_fee if s < 1000])
print(df)
Q1 = df[0].quantile(0.25)
Q3 = df[0].quantile(0.75)
IQR = Q3 - Q1    #IQR is interquartile range. 
filter = (df[0] >= Q1 - 1.5 * IQR) & (df[0] <= Q3 + 1.5 *IQR)
filtered = df[0].loc[filter]
print(i,filtered.shape)
print(filtered.mean())
print(filtered.std())





# In[190]:


import pandas as pd
df = pd.DataFrame([s for s in opt_fee if s < 1000])
print(df)
Q1 = df[0].quantile(0.25)
Q3 = df[0].quantile(0.75)
IQR = Q3 - Q1    #IQR is interquartile range. 
filter = (df[0] >= Q1 - 1.5 * IQR) & (df[0] <= Q3 + 1.5 *IQR)
filtered = df[0].loc[filter]
print(i,filtered.shape)
print(filtered.mean())
print(filtered.std())




# In[112]:



print(size_m,size_o)

print("====EX===")

# sb.boxplot([s for s in mpc_ex], showfliers = True)
# sb.boxplot([s for s in opt_ex], showfliers = True)
l_mpc_ex = [s for s in mpc_ex if s>80]

print(statistics.mean(l_mpc_ex))
print(statistics.stdev(l_mpc_ex))
print(len(l_mpc_ex))

l_opt_ex = [s for s in opt_ex if s>80]
print(statistics.mean(l_opt_ex))
print(statistics.stdev(l_opt_ex))
print(len(l_opt_ex))



print("====FC===")

# sb.boxplot([s for s in static_fee], showfliers = True)
sb.boxplot([s for s in opt_fee if s<1000], showfliers = True)

l_s_fee = [s for s in static_fee if s<200]
print(statistics.mean(l_s_fee))
print(statistics.stdev(l_s_fee))
print(len(l_s_fee))

l_o_fee = [s for s in opt_fee if s<1000 and s>0]
print(statistics.mean(l_o_fee))
print(statistics.stdev(l_o_fee))
print(len(l_o_fee))

# sb.boxplot(l_o_fee, showfliers = True)

print("====DP===")
print("MPC--------------")

# sb.boxplot([s for s in opt_fail if s>70], showfliers = True)
l_mpc_fail = [s for s in mpc_fail if s>40]
print(statistics.mean(l_mpc_fail))
print(statistics.stdev(l_mpc_fail))
print(len(l_mpc_fail))

print("Opt-------------")

# sb.boxplot([s for s in opt_fail if s>100], showfliers = True)
l_opt_fail = [s for s in opt_fail if s>40]
print(statistics.mean(l_opt_fail))
print(statistics.stdev(l_opt_fail))
print(len(l_opt_fail))

plt.show()

# sb.boxplot([s[1] for s in model_fail_data], showfliers = True)



