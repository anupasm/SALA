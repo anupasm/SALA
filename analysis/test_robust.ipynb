#!/usr/bin/env python
# coding: utf-8

# In[214]:


import matplotlib.pyplot as plt
import json, os
import pandas as pd
import numpy as np


# In[81]:


def get_init_data(test, model):
    file = '../data/'+str(test)+'/'+str(model)+'/stat.json'
    if not os.path.isfile(file): return None,None

    with open(file, "r") as file_object:
        for i, line in enumerate(file_object):
            data = json.loads(line)
            for a,val in data.items():
                return a, val


# In[203]:


def mean(df):
#     print()
#     print(df.describe())
    result = []
    for i in range(6):
        Q1 = df[i].quantile(0.25)
        Q3 = df[i].quantile(0.75)
        IQR = Q3 - Q1    #IQR is interquartile range. 
        filter = (df[i] >= Q1 - 1.5 * IQR) & (df[i] <= Q3 + 1.5 *IQR)
        filtered = df.loc[filter]
        print(i,filtered.shape)
        result.append(filtered.mean()[i])
        
    return result

def percentage_drop(data):
    df = pd.DataFrame(data)
    return df.div(df[0]).mul(100)

def combined_percentage_hike(data1,data2):
    df1 = pd.DataFrame(data1)
    df2 = pd.DataFrame(data2)
    return df1.div(df2).mul(100)

def percentage_hike(data):
    return pd.DataFrame(([[(d-item[0])*100/item[0] for d in item if item[0]] for item in data]))

def process_ex(data):
    return [[(d*100)/item[0] for d in item] for item in data]
    
def scatter(x,data):
    for d in data:
        if d: plt.scatter(x, d, marker='o')
    plt.show()


    


# In[255]:



def attack_analyze(tests,save_range,controller,param):
    data = []
    for test in tests:
        dir = '../data/'+str(test)+'/'
        log_file = dir+'log'+str(save_range[0])
        subdirs = [x[0] for x in os.walk(dir)][1:]
        for subdir in subdirs:    
            model_no = subdir.split('/')[3]
            victim, val0 = get_init_data(test,model_no)
            if victim is None: continue
            exp_data =[]
            exp_data.append(val0[param][controller-1])
            for save_no in save_range:
                out_file =  subdir+'/'+str(save_no+round(controller*0.1,1))+'_out.json'
                if not os.path.isfile(out_file): continue
                with open(out_file, "r") as file_object:
                    for i, line in enumerate(file_object):
                        param_data = json.loads(line)[str(victim)][param]
                        exp_data.append(param_data)
                        break
            data.append(exp_data)
    return data


# In[256]:


fee_s = mean(percentage_hike(attack_analyze(range(101,106),range(300,305),1,'fee_total')))
fee_m = mean(percentage_hike(attack_analyze(range(101,106),range(300,305),2,'fee_total')))
fee_o = mean(percentage_hike(attack_analyze(range(101,106),range(300,305),3,'fee_total')))


# In[264]:


pdf_s = pd.DataFrame(attack_analyze(range(101,106),range(300,305),1,'fee_total'))
pdf_m = pd.DataFrame(attack_analyze(range(101,106),range(300,305),2,'fee_total'))
pdf_o = pd.DataFrame(attack_analyze(range(101,106),range(300,305),3,'fee_total'))


# In[267]:


pdf_s


# In[268]:


pdf_m


# In[265]:


mean(pdf_m.divide(pdf_s)*100)


# In[266]:


mean(pdf_m.divide(pdf_o)*100)


# In[260]:


adjustment = percentage_hike([[7,17,27,37,47,57]])
adjustment


# In[261]:


fig, ax = plt.subplots()

# ax.plot([0,10,20,30,40,50],adjustment.stack().values,color='black'  , linestyle='-')



ax.scatter([0,10,20,30,40,50], fee_s,color='red'  , marker='*', label='S-FC')
ax.scatter([0,10,20,30,40,50], fee_m,color='blue' , marker='o', label='MPC-FC')
ax.scatter([0,10,20,30,40,50],fee_o,color='green', marker='s', label='OP-FC')

ax.plot([0,10,20,30,40,50], fee_s,color='red'  , linestyle='--')
ax.plot([0,10,20,30,40,50], fee_m,color='blue' , linestyle='--')
ax.plot([0,10,20,30,40,50],fee_o,color='green', linestyle='--')

plt.xticks([0,10,20,30,40,50],['4-10','14-20','24-30','34-40','44-50','54-60'])
plt.xlabel('adjusted range (m_adj)')
plt.ylabel('percentage')
plt.legend()
plt.show()

